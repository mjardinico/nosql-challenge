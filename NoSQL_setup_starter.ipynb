{
 "cells": [
  {
   "cell_type": "markdown",
   "id": "9a57c4c6",
   "metadata": {},
   "source": [
    "# Eat Safe, Love"
   ]
  },
  {
   "cell_type": "markdown",
   "id": "064ef857",
   "metadata": {},
   "source": [
    "## Part 1: Database and Jupyter Notebook Set Up"
   ]
  },
  {
   "cell_type": "markdown",
   "id": "664e3c1f",
   "metadata": {},
   "source": [
    "Import the data provided in the `establishments.json` file from your Terminal. Name the database `uk_food` and the collection `establishments`.\n",
    "\n",
    "Within this markdown cell, copy the line of text you used to import the data from your Terminal. This way, future analysts will be able to repeat your process.\n",
    "\n",
    "e.g.: Import the dataset with `mongoimport --type json -d uk_food -c establishments --drop --jsonArray establishments.json`"
   ]
  },
  {
   "cell_type": "code",
   "execution_count": 18,
   "id": "3ecdd008",
   "metadata": {},
   "outputs": [],
   "source": [
    "# Import dependencies\n",
    "from pymongo import MongoClient\n",
    "from pprint import pprint"
   ]
  },
  {
   "cell_type": "code",
   "execution_count": 19,
   "id": "59390c4a",
   "metadata": {},
   "outputs": [],
   "source": [
    "# Create an instance of MongoClient\n",
    "mongo = MongoClient(port=27017)"
   ]
  },
  {
   "cell_type": "code",
   "execution_count": 20,
   "id": "7f9ececa",
   "metadata": {},
   "outputs": [
    {
     "name": "stdout",
     "output_type": "stream",
     "text": [
      "'admin'\n",
      "'autosaurus'\n",
      "'classDB'\n",
      "'class_DB'\n",
      "'config'\n",
      "'epa'\n",
      "'local'\n",
      "'travel_db'\n",
      "'uk_food'\n"
     ]
    }
   ],
   "source": [
    "# confirm that our new database was created\n",
    "db_list = mongo.list_database_names()\n",
    "\n",
    "# Print all database names and check if uk_food is in the list\n",
    "for db_name in db_list:\n",
    "    pprint(db_name)"
   ]
  },
  {
   "cell_type": "code",
   "execution_count": 21,
   "id": "71e373c1",
   "metadata": {},
   "outputs": [
    {
     "data": {
      "text/plain": [
       "Database(MongoClient(host=['localhost:27017'], document_class=dict, tz_aware=False, connect=True), 'uk_food')"
      ]
     },
     "execution_count": 21,
     "metadata": {},
     "output_type": "execute_result"
    }
   ],
   "source": [
    "# assign the uk_food database to a variable name\n",
    "# db = mongo['uk_food']   \n",
    "db = mongo.uk_food\n",
    "db"
   ]
  },
  {
   "cell_type": "code",
   "execution_count": 22,
   "id": "ef1b89ed",
   "metadata": {},
   "outputs": [
    {
     "name": "stdout",
     "output_type": "stream",
     "text": [
      "'establishments'\n"
     ]
    }
   ],
   "source": [
    "# review the collections in our new database\n",
    "collections = db.list_collection_names()\n",
    "\n",
    "# Print the names of the collections\n",
    "for collection_name in collections:\n",
    "    pprint(collection_name)\n"
   ]
  },
  {
   "cell_type": "code",
   "execution_count": 23,
   "id": "6a0d92df",
   "metadata": {},
   "outputs": [
    {
     "name": "stdout",
     "output_type": "stream",
     "text": [
      "{'AddressLine1': 'The Pines Garden',\n",
      " 'AddressLine2': 'Beach Road',\n",
      " 'AddressLine3': 'St Margarets Bay',\n",
      " 'AddressLine4': 'Kent',\n",
      " 'BusinessName': 'The Pines Calyx',\n",
      " 'BusinessType': 'Other catering premises',\n",
      " 'BusinessTypeID': 7841,\n",
      " 'ChangesByServerID': 0,\n",
      " 'Distance': 4587.362402580997,\n",
      " 'FHRSID': 254250,\n",
      " 'LocalAuthorityBusinessID': 'PI/000066174',\n",
      " 'LocalAuthorityCode': '182',\n",
      " 'LocalAuthorityEmailAddress': 'publicprotection@dover.gov.uk',\n",
      " 'LocalAuthorityName': 'Dover',\n",
      " 'LocalAuthorityWebSite': 'http://www.dover.gov.uk/',\n",
      " 'NewRatingPending': False,\n",
      " 'Phone': '',\n",
      " 'PostCode': 'CT15 6DZ',\n",
      " 'RatingDate': '2021-08-17T00:00:00',\n",
      " 'RatingKey': 'fhrs_5_en-gb',\n",
      " 'RatingValue': '5',\n",
      " 'RightToReply': '',\n",
      " 'SchemeType': 'FHRS',\n",
      " '_id': ObjectId('6575fd7b835c633e8d96f277'),\n",
      " 'geocode': {'latitude': '51.148133', 'longitude': '1.383298'},\n",
      " 'links': [{'href': 'https://api.ratings.food.gov.uk/establishments/254250',\n",
      "            'rel': 'self'}],\n",
      " 'meta': {'dataSource': None,\n",
      "          'extractDate': '0001-01-01T00:00:00',\n",
      "          'itemCount': 0,\n",
      "          'pageNumber': 0,\n",
      "          'pageSize': 0,\n",
      "          'returncode': None,\n",
      "          'totalCount': 0,\n",
      "          'totalPages': 0},\n",
      " 'scores': {'ConfidenceInManagement': 0, 'Hygiene': 0, 'Structural': 0}}\n"
     ]
    }
   ],
   "source": [
    "# review a document in the establishments collection\n",
    "document = db.establishments.find_one()\n",
    "pprint(document)\n"
   ]
  },
  {
   "cell_type": "code",
   "execution_count": 24,
   "id": "11c9f11b",
   "metadata": {},
   "outputs": [],
   "source": [
    "# assign the collection to a variable\n",
    "establishments = db['establishments']"
   ]
  },
  {
   "cell_type": "markdown",
   "id": "d5671434",
   "metadata": {},
   "source": [
    "## Part 2: Update the Database"
   ]
  },
  {
   "cell_type": "markdown",
   "id": "314bd884",
   "metadata": {},
   "source": [
    "1. An exciting new halal restaurant just opened in Greenwich, but hasn't been rated yet. The magazine has asked you to include it in your analysis. Add the following restaurant \"Penang Flavours\" to the database."
   ]
  },
  {
   "cell_type": "code",
   "execution_count": 25,
   "id": "c2da7648",
   "metadata": {},
   "outputs": [],
   "source": [
    "# Create a dictionary for the new restaurant data\n",
    "penang_flavours = {\n",
    "    \"BusinessName\":\"Penang Flavours\",\n",
    "    \"BusinessType\":\"Restaurant/Cafe/Canteen\",\n",
    "    \"BusinessTypeID\":\"\",\n",
    "    \"AddressLine1\":\"Penang Flavours\",\n",
    "    \"AddressLine2\":\"146A Plumstead Rd\",\n",
    "    \"AddressLine3\":\"London\",\n",
    "    \"AddressLine4\":\"\",\n",
    "    \"PostCode\":\"SE18 7DY\",\n",
    "    \"Phone\":\"\",\n",
    "    \"LocalAuthorityCode\":\"511\",\n",
    "    \"LocalAuthorityName\":\"Greenwich\",\n",
    "    \"LocalAuthorityWebSite\":\"http://www.royalgreenwich.gov.uk\",\n",
    "    \"LocalAuthorityEmailAddress\":\"health@royalgreenwich.gov.uk\",\n",
    "    \"scores\":{\n",
    "        \"Hygiene\":\"\",\n",
    "        \"Structural\":\"\",\n",
    "        \"ConfidenceInManagement\":\"\"\n",
    "    },\n",
    "    \"SchemeType\":\"FHRS\",\n",
    "    \"geocode\":{\n",
    "        \"longitude\":\"0.08384000\",\n",
    "        \"latitude\":\"51.49014200\"\n",
    "    },\n",
    "    \"RightToReply\":\"\",\n",
    "    \"Distance\":4623.9723280747176,\n",
    "    \"NewRatingPending\":True\n",
    "}\n"
   ]
  },
  {
   "cell_type": "code",
   "execution_count": 26,
   "id": "a6e5cece",
   "metadata": {},
   "outputs": [
    {
     "name": "stdout",
     "output_type": "stream",
     "text": [
      "Inserted document with ID: 6575fdea1ef40a2c2988c9cc\n"
     ]
    }
   ],
   "source": [
    "# Insert the new restaurant into the collection\n",
    "result = establishments.insert_one(penang_flavours)\n",
    "\n",
    "# Let's check the ID of the new restaurant inside the collection.\n",
    "print(\"Inserted document with ID:\", result.inserted_id)\n"
   ]
  },
  {
   "cell_type": "code",
   "execution_count": 27,
   "id": "63bb10f9",
   "metadata": {
    "scrolled": true
   },
   "outputs": [
    {
     "name": "stdout",
     "output_type": "stream",
     "text": [
      "{'AddressLine1': 'Penang Flavours',\n",
      " 'AddressLine2': '146A Plumstead Rd',\n",
      " 'AddressLine3': 'London',\n",
      " 'AddressLine4': '',\n",
      " 'BusinessName': 'Penang Flavours',\n",
      " 'BusinessType': 'Restaurant/Cafe/Canteen',\n",
      " 'BusinessTypeID': '',\n",
      " 'Distance': 4623.972328074718,\n",
      " 'LocalAuthorityCode': '511',\n",
      " 'LocalAuthorityEmailAddress': 'health@royalgreenwich.gov.uk',\n",
      " 'LocalAuthorityName': 'Greenwich',\n",
      " 'LocalAuthorityWebSite': 'http://www.royalgreenwich.gov.uk',\n",
      " 'NewRatingPending': True,\n",
      " 'Phone': '',\n",
      " 'PostCode': 'SE18 7DY',\n",
      " 'RightToReply': '',\n",
      " 'SchemeType': 'FHRS',\n",
      " '_id': ObjectId('6575fdea1ef40a2c2988c9cc'),\n",
      " 'geocode': {'latitude': '51.49014200', 'longitude': '0.08384000'},\n",
      " 'scores': {'ConfidenceInManagement': '', 'Hygiene': '', 'Structural': ''}}\n"
     ]
    }
   ],
   "source": [
    "# Check that the new restaurant was inserted\n",
    "new_restaurant = establishments.find_one({\"BusinessName\": \"Penang Flavours\"})\n",
    "pprint(new_restaurant)"
   ]
  },
  {
   "cell_type": "markdown",
   "id": "0ef4395a",
   "metadata": {},
   "source": [
    "2. Find the BusinessTypeID for \"Restaurant/Cafe/Canteen\" and return only the `BusinessTypeID` and `BusinessType` fields."
   ]
  },
  {
   "cell_type": "code",
   "execution_count": 28,
   "id": "1ad8f95e-3459-4422-ac0e-a11ccb71e97b",
   "metadata": {},
   "outputs": [
    {
     "name": "stdout",
     "output_type": "stream",
     "text": [
      "{'BusinessType': 'Restaurant/Cafe/Canteen',\n",
      " 'BusinessTypeID': 1,\n",
      " '_id': ObjectId('6575fd7b835c633e8d96f278')}\n",
      "{'BusinessType': 'Restaurant/Cafe/Canteen',\n",
      " 'BusinessTypeID': 1,\n",
      " '_id': ObjectId('6575fd7b835c633e8d96f279')}\n",
      "{'BusinessType': 'Restaurant/Cafe/Canteen',\n",
      " 'BusinessTypeID': 1,\n",
      " '_id': ObjectId('6575fd7b835c633e8d96f27a')}\n",
      "{'BusinessType': 'Restaurant/Cafe/Canteen',\n",
      " 'BusinessTypeID': 1,\n",
      " '_id': ObjectId('6575fd7b835c633e8d96f27b')}\n",
      "{'BusinessType': 'Restaurant/Cafe/Canteen',\n",
      " 'BusinessTypeID': 1,\n",
      " '_id': ObjectId('6575fd7b835c633e8d96f27c')}\n",
      "{'BusinessType': 'Restaurant/Cafe/Canteen',\n",
      " 'BusinessTypeID': 1,\n",
      " '_id': ObjectId('6575fd7b835c633e8d96f27e')}\n",
      "{'BusinessType': 'Restaurant/Cafe/Canteen',\n",
      " 'BusinessTypeID': 1,\n",
      " '_id': ObjectId('6575fd7b835c633e8d96f280')}\n",
      "{'BusinessType': 'Restaurant/Cafe/Canteen',\n",
      " 'BusinessTypeID': 1,\n",
      " '_id': ObjectId('6575fd7b835c633e8d96f282')}\n",
      "{'BusinessType': 'Restaurant/Cafe/Canteen',\n",
      " 'BusinessTypeID': 1,\n",
      " '_id': ObjectId('6575fd7b835c633e8d96f284')}\n",
      "{'BusinessType': 'Restaurant/Cafe/Canteen',\n",
      " 'BusinessTypeID': 1,\n",
      " '_id': ObjectId('6575fd7b835c633e8d96f286')}\n"
     ]
    }
   ],
   "source": [
    "# Find the BusinessTypeID for \"Restaurant/Cafe/Canteen\" and return only the BusinessTypeID and BusinessType fields\n",
    "result_BusinessTypeID = establishments.find({\"BusinessType\":\"Restaurant/Cafe/Canteen\"}, {\"BusinessTypeID\":1, \"BusinessType\":1})\n",
    "result_BusinessTypeID\n",
    "for result in result_BusinessTypeID[:10]:\n",
    "    pprint(result)"
   ]
  },
  {
   "cell_type": "markdown",
   "id": "4e570caf",
   "metadata": {},
   "source": [
    "3. Update the new restaurant with the `BusinessTypeID` you found."
   ]
  },
  {
   "cell_type": "code",
   "execution_count": 29,
   "id": "7f599f3d",
   "metadata": {},
   "outputs": [],
   "source": [
    "# Update the new restaurant with the correct BusinessTypeID\n",
    "penang_flavour_update = establishments.update_one({\"BusinessName\":\"Penang Flavours\"}, {\"$set\": {\"BusinessTypeID\": 1}})"
   ]
  },
  {
   "cell_type": "code",
   "execution_count": 30,
   "id": "a6ad16f7",
   "metadata": {},
   "outputs": [
    {
     "data": {
      "text/plain": [
       "{'_id': ObjectId('6575fdea1ef40a2c2988c9cc'),\n",
       " 'BusinessName': 'Penang Flavours',\n",
       " 'BusinessType': 'Restaurant/Cafe/Canteen',\n",
       " 'BusinessTypeID': 1,\n",
       " 'AddressLine1': 'Penang Flavours',\n",
       " 'AddressLine2': '146A Plumstead Rd',\n",
       " 'AddressLine3': 'London',\n",
       " 'AddressLine4': '',\n",
       " 'PostCode': 'SE18 7DY',\n",
       " 'Phone': '',\n",
       " 'LocalAuthorityCode': '511',\n",
       " 'LocalAuthorityName': 'Greenwich',\n",
       " 'LocalAuthorityWebSite': 'http://www.royalgreenwich.gov.uk',\n",
       " 'LocalAuthorityEmailAddress': 'health@royalgreenwich.gov.uk',\n",
       " 'scores': {'Hygiene': '', 'Structural': '', 'ConfidenceInManagement': ''},\n",
       " 'SchemeType': 'FHRS',\n",
       " 'geocode': {'longitude': '0.08384000', 'latitude': '51.49014200'},\n",
       " 'RightToReply': '',\n",
       " 'Distance': 4623.972328074718,\n",
       " 'NewRatingPending': True}"
      ]
     },
     "execution_count": 30,
     "metadata": {},
     "output_type": "execute_result"
    }
   ],
   "source": [
    "# Confirm that the new restaurant was updated\n",
    "penang_flavour_confirm = establishments.find_one({\"BusinessName\":\"Penang Flavours\"})\n",
    "penang_flavour_confirm"
   ]
  },
  {
   "cell_type": "markdown",
   "id": "67281254",
   "metadata": {},
   "source": [
    "4. The magazine is not interested in any establishments in Dover, so check how many documents contain the Dover Local Authority. Then, remove any establishments within the Dover Local Authority from the database, and check the number of documents to ensure they were deleted."
   ]
  },
  {
   "cell_type": "code",
   "execution_count": 31,
   "id": "768474a6",
   "metadata": {},
   "outputs": [
    {
     "data": {
      "text/plain": [
       "994"
      ]
     },
     "execution_count": 31,
     "metadata": {},
     "output_type": "execute_result"
    }
   ],
   "source": [
    "# Find how many documents have LocalAuthorityName as \"Dover\"\n",
    "establishments.count_documents({\"LocalAuthorityName\":\"Dover\"})\n"
   ]
  },
  {
   "cell_type": "code",
   "execution_count": 32,
   "id": "a11d5f1b",
   "metadata": {},
   "outputs": [
    {
     "name": "stdout",
     "output_type": "stream",
     "text": [
      "994\n"
     ]
    }
   ],
   "source": [
    "# Delete all documents where LocalAuthorityName is \"Dover\"\n",
    "delete_result = establishments.delete_many({\"LocalAuthorityName\":\"Dover\"})\n",
    "\n",
    "print(delete_result.deleted_count)"
   ]
  },
  {
   "cell_type": "code",
   "execution_count": 33,
   "id": "2a51aba0",
   "metadata": {},
   "outputs": [
    {
     "name": "stdout",
     "output_type": "stream",
     "text": [
      "No item was found\n"
     ]
    }
   ],
   "source": [
    "# Check if any remaining documents include Dover\n",
    "dover_find = [x for x in establishments.find({\"LocalAuthorityName\":\"Dover\"})]\n",
    "\n",
    "if not dover_find:\n",
    "    print(\"No item was found\")\n",
    "else:\n",
    "    print(\"There is/are still documents with \\'Dover\\'\")\n"
   ]
  },
  {
   "cell_type": "code",
   "execution_count": 34,
   "id": "8c356f7b",
   "metadata": {},
   "outputs": [
    {
     "name": "stdout",
     "output_type": "stream",
     "text": [
      "'One document found other than Dover'\n"
     ]
    },
    {
     "data": {
      "text/plain": [
       "['_id',\n",
       " 'FHRSID',\n",
       " 'ChangesByServerID',\n",
       " 'LocalAuthorityBusinessID',\n",
       " 'BusinessName',\n",
       " 'BusinessType',\n",
       " 'BusinessTypeID',\n",
       " 'AddressLine1',\n",
       " 'AddressLine2',\n",
       " 'AddressLine3',\n",
       " 'AddressLine4',\n",
       " 'PostCode',\n",
       " 'Phone',\n",
       " 'RatingValue',\n",
       " 'RatingKey',\n",
       " 'RatingDate',\n",
       " 'LocalAuthorityCode',\n",
       " 'LocalAuthorityName',\n",
       " 'LocalAuthorityWebSite',\n",
       " 'LocalAuthorityEmailAddress',\n",
       " 'scores',\n",
       " 'SchemeType',\n",
       " 'geocode',\n",
       " 'RightToReply',\n",
       " 'Distance',\n",
       " 'NewRatingPending',\n",
       " 'meta',\n",
       " 'links']"
      ]
     },
     "metadata": {},
     "output_type": "display_data"
    }
   ],
   "source": [
    "# Check that other documents remain with 'find_one'\n",
    "other_documents_result = [x for x in establishments.find_one()]\n",
    "\n",
    "if other_documents_result:\n",
    "    pprint(\"One document found other than Dover\")\n",
    "    display(other_documents_result)\n",
    "else:\n",
    "    pprint(\"No document found aside from Dover\")"
   ]
  },
  {
   "attachments": {},
   "cell_type": "markdown",
   "id": "e9f1662d",
   "metadata": {},
   "source": [
    "5. Some of the number values are stored as strings, when they should be stored as numbers."
   ]
  },
  {
   "attachments": {},
   "cell_type": "markdown",
   "id": "c46df2df",
   "metadata": {},
   "source": [
    "Use `update_many` to convert `latitude` and `longitude` to decimal numbers."
   ]
  },
  {
   "cell_type": "code",
   "execution_count": 35,
   "id": "fd4112ce",
   "metadata": {},
   "outputs": [
    {
     "data": {
      "text/plain": [
       "UpdateResult({'n': 38786, 'nModified': 38786, 'ok': 1.0, 'updatedExisting': True}, acknowledged=True)"
      ]
     },
     "execution_count": 35,
     "metadata": {},
     "output_type": "execute_result"
    }
   ],
   "source": [
    "# Change the data type from String to Decimal for longitude and latitude\n",
    "establishments.update_many({}, \n",
    "                           {\"$set\": {\n",
    "                               \"geocode.longitude\": {\n",
    "                                   \"$toDecimal\": \"$geocode.longitude\"\n",
    "                               }, \n",
    "                               \"geocode.latitude\": {\n",
    "                                   \"$toDecimal\": \"$geocode.latitude\"\n",
    "                               }\n",
    "                              }\n",
    "                            }\n",
    "                          )"
   ]
  },
  {
   "attachments": {},
   "cell_type": "markdown",
   "id": "142e319c",
   "metadata": {},
   "source": [
    "Use `update_many` to convert `RatingValue` to integer numbers."
   ]
  },
  {
   "cell_type": "code",
   "execution_count": 36,
   "id": "04430a5b",
   "metadata": {},
   "outputs": [
    {
     "data": {
      "text/plain": [
       "UpdateResult({'n': 4091, 'nModified': 4091, 'ok': 1.0, 'updatedExisting': True}, acknowledged=True)"
      ]
     },
     "execution_count": 36,
     "metadata": {},
     "output_type": "execute_result"
    }
   ],
   "source": [
    "# Set non 1-5 Rating Values to Null\n",
    "non_ratings = [\"AwaitingInspection\", \"Awaiting Inspection\", \"AwaitingPublication\", \"Pass\", \"Exempt\"]\n",
    "establishments.update_many({\"RatingValue\": {\"$in\": non_ratings}}, [ {'$set':{ \"RatingValue\" : None}} ])"
   ]
  },
  {
   "cell_type": "code",
   "execution_count": 37,
   "id": "92524ccc",
   "metadata": {},
   "outputs": [
    {
     "data": {
      "text/plain": [
       "UpdateResult({'n': 38786, 'nModified': 34695, 'ok': 1.0, 'updatedExisting': True}, acknowledged=True)"
      ]
     },
     "execution_count": 37,
     "metadata": {},
     "output_type": "execute_result"
    }
   ],
   "source": [
    "# Change the data type from String to Integer for RatingValue\n",
    "establishments.update_many({}, [{\"$set\": {\"RatingValue\":{\"$toInt\":\"$RatingValue\"}}}])"
   ]
  },
  {
   "cell_type": "code",
   "execution_count": 38,
   "id": "0deacaf9",
   "metadata": {},
   "outputs": [
    {
     "name": "stdout",
     "output_type": "stream",
     "text": [
      "\"Field: _id, Type: <class 'bson.objectid.ObjectId'>\"\n",
      "\"Field: FHRSID, Type: <class 'int'>\"\n",
      "\"Field: ChangesByServerID, Type: <class 'int'>\"\n",
      "\"Field: LocalAuthorityBusinessID, Type: <class 'str'>\"\n",
      "\"Field: BusinessName, Type: <class 'str'>\"\n",
      "\"Field: BusinessType, Type: <class 'str'>\"\n",
      "\"Field: BusinessTypeID, Type: <class 'int'>\"\n",
      "\"Field: AddressLine1, Type: <class 'str'>\"\n",
      "\"Field: AddressLine2, Type: <class 'str'>\"\n",
      "\"Field: AddressLine3, Type: <class 'str'>\"\n",
      "\"Field: AddressLine4, Type: <class 'str'>\"\n",
      "\"Field: PostCode, Type: <class 'str'>\"\n",
      "\"Field: Phone, Type: <class 'str'>\"\n",
      "\"Field: RatingValue, Type: <class 'int'>\"\n",
      "\"Field: RatingKey, Type: <class 'str'>\"\n",
      "\"Field: RatingDate, Type: <class 'str'>\"\n",
      "\"Field: LocalAuthorityCode, Type: <class 'str'>\"\n",
      "\"Field: LocalAuthorityName, Type: <class 'str'>\"\n",
      "\"Field: LocalAuthorityWebSite, Type: <class 'str'>\"\n",
      "\"Field: LocalAuthorityEmailAddress, Type: <class 'str'>\"\n",
      "\"Field: scores, Type: <class 'dict'>\"\n",
      "\"Field: SchemeType, Type: <class 'str'>\"\n",
      "\"Field: geocode, Type: <class 'dict'>\"\n",
      "\"Field: RightToReply, Type: <class 'str'>\"\n",
      "\"Field: Distance, Type: <class 'float'>\"\n",
      "\"Field: NewRatingPending, Type: <class 'bool'>\"\n",
      "\"Field: meta, Type: <class 'dict'>\"\n",
      "\"Field: links, Type: <class 'list'>\"\n"
     ]
    }
   ],
   "source": [
    "# Check that the coordinates and rating value are now numbers\n",
    "document = establishments.find_one()\n",
    "for key, value in document.items():\n",
    "    pprint(f\"Field: {key}, Type: {type(value)}\")"
   ]
  },
  {
   "cell_type": "code",
   "execution_count": 39,
   "id": "60377b67-7ac2-4a90-a7d5-6d04e638b267",
   "metadata": {},
   "outputs": [],
   "source": [
    "# *** END OF CODE ***"
   ]
  }
 ],
 "metadata": {
  "kernelspec": {
   "display_name": "Python 3 (ipykernel)",
   "language": "python",
   "name": "python3"
  },
  "language_info": {
   "codemirror_mode": {
    "name": "ipython",
    "version": 3
   },
   "file_extension": ".py",
   "mimetype": "text/x-python",
   "name": "python",
   "nbconvert_exporter": "python",
   "pygments_lexer": "ipython3",
   "version": "3.11.5"
  }
 },
 "nbformat": 4,
 "nbformat_minor": 5
}
